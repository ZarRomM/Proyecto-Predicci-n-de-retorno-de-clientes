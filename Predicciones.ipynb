{
 "cells": [
  {
   "cell_type": "markdown",
   "id": "9e3ef70b",
   "metadata": {},
   "source": [
    "# Mauricio Zárate Romero"
   ]
  },
  {
   "cell_type": "markdown",
   "id": "e0139605",
   "metadata": {},
   "source": [
    "# DataSet Synthetic Customer Data"
   ]
  },
  {
   "cell_type": "markdown",
   "id": "32947c6f",
   "metadata": {},
   "source": [
    "<div style=\"background-color:rgb(42, 146, 175); padding: 10px; border-left: 5px solidrgb(34, 119, 148); border-radius: 3px;\">\n",
    "  <b>1. Cargar el archivo CSV</b>\n",
    "</div>"
   ]
  },
  {
   "cell_type": "code",
   "execution_count": 31,
   "id": "60b22f2e",
   "metadata": {},
   "outputs": [],
   "source": [
    "# Carga de librerias\n",
    "\n",
    "import pandas as pd\n",
    "import numpy as np\n",
    "import seaborn as sns\n",
    "import matplotlib.pyplot as plt\n",
    "import math\n",
    "from scipy import stats as st\n",
    "from matplotlib.patches import Patch"
   ]
  },
  {
   "cell_type": "code",
   "execution_count": 32,
   "id": "7c8d5167",
   "metadata": {},
   "outputs": [
    {
     "name": "stdout",
     "output_type": "stream",
     "text": [
      "#############################################\n",
      "#       Synthetic Customer Data DATASET     #\n",
      "#############################################\n",
      "\n",
      "╔════════════════════════════════╗\n",
      "║   ANÁLISIS DE CIENCIA DE DATOS ║\n",
      "║       DESARROLLADO POR         ║\n",
      "║    Mauricio Zárate Romero      ║\n",
      "╚════════════════════════════════╝\n"
     ]
    }
   ],
   "source": [
    "# Carga de archivos de DataFrame\n",
    "\n",
    "print(\"#############################################\")\n",
    "print(\"#       Synthetic Customer Data DATASET     #\")\n",
    "print(\"#############################################\")\n",
    "\n",
    "print(\"\\n╔════════════════════════════════╗\")  \n",
    "print(\"║   ANÁLISIS DE CIENCIA DE DATOS ║\")  \n",
    "print(\"║       DESARROLLADO POR         ║\")  \n",
    "print(\"║    Mauricio Zárate Romero      ║\")  \n",
    "print(\"╚════════════════════════════════╝\") \n",
    "\n",
    "# Synthetic_Customer_Data = df_scd\n",
    "\n",
    "df_scd_copy = pd.read_csv('synthetic_customer_data.csv')\n",
    "\n",
    "# Copia de seguridad para no modificar los DataFrames originales.\n",
    "\n",
    "df_scd = df_scd_copy.copy()"
   ]
  },
  {
   "cell_type": "code",
   "execution_count": 33,
   "id": "3d97d91e",
   "metadata": {},
   "outputs": [
    {
     "data": {
      "application/vnd.microsoft.datawrangler.viewer.v0+json": {
       "columns": [
        {
         "name": "index",
         "rawType": "int64",
         "type": "integer"
        },
        {
         "name": "customer_id",
         "rawType": "int64",
         "type": "integer"
        },
        {
         "name": "age",
         "rawType": "int64",
         "type": "integer"
        },
        {
         "name": "gender",
         "rawType": "object",
         "type": "string"
        },
        {
         "name": "total_spent",
         "rawType": "float64",
         "type": "float"
        },
        {
         "name": "frequency",
         "rawType": "int64",
         "type": "integer"
        },
        {
         "name": "days_since_last_purchase",
         "rawType": "int64",
         "type": "integer"
        },
        {
         "name": "marketing_engaged",
         "rawType": "int64",
         "type": "integer"
        },
        {
         "name": "returned_next_month",
         "rawType": "int64",
         "type": "integer"
        }
       ],
       "ref": "d4b43635-9f92-4086-9298-fa6ff5461912",
       "rows": [
        [
         "0",
         "1",
         "25",
         "Male",
         "200.5",
         "5",
         "12",
         "1",
         "1"
        ],
        [
         "1",
         "2",
         "34",
         "Female",
         "120.75",
         "2",
         "30",
         "0",
         "0"
        ],
        [
         "2",
         "3",
         "28",
         "Male",
         "315.0",
         "6",
         "5",
         "1",
         "1"
        ],
        [
         "3",
         "4",
         "45",
         "Female",
         "150.0",
         "3",
         "15",
         "1",
         "0"
        ],
        [
         "4",
         "5",
         "42",
         "Male",
         "175.5",
         "4",
         "25",
         "0",
         "0"
        ],
        [
         "5",
         "6",
         "33",
         "Female",
         "240.0",
         "5",
         "7",
         "1",
         "1"
        ],
        [
         "6",
         "7",
         "31",
         "Male",
         "305.0",
         "7",
         "9",
         "1",
         "1"
        ],
        [
         "7",
         "8",
         "40",
         "Female",
         "215.25",
         "4",
         "14",
         "0",
         "0"
        ],
        [
         "8",
         "9",
         "36",
         "Male",
         "185.5",
         "3",
         "20",
         "1",
         "0"
        ],
        [
         "9",
         "10",
         "29",
         "Female",
         "225.0",
         "6",
         "10",
         "0",
         "1"
        ]
       ],
       "shape": {
        "columns": 8,
        "rows": 10
       }
      },
      "text/html": [
       "<div>\n",
       "<style scoped>\n",
       "    .dataframe tbody tr th:only-of-type {\n",
       "        vertical-align: middle;\n",
       "    }\n",
       "\n",
       "    .dataframe tbody tr th {\n",
       "        vertical-align: top;\n",
       "    }\n",
       "\n",
       "    .dataframe thead th {\n",
       "        text-align: right;\n",
       "    }\n",
       "</style>\n",
       "<table border=\"1\" class=\"dataframe\">\n",
       "  <thead>\n",
       "    <tr style=\"text-align: right;\">\n",
       "      <th></th>\n",
       "      <th>customer_id</th>\n",
       "      <th>age</th>\n",
       "      <th>gender</th>\n",
       "      <th>total_spent</th>\n",
       "      <th>frequency</th>\n",
       "      <th>days_since_last_purchase</th>\n",
       "      <th>marketing_engaged</th>\n",
       "      <th>returned_next_month</th>\n",
       "    </tr>\n",
       "  </thead>\n",
       "  <tbody>\n",
       "    <tr>\n",
       "      <th>0</th>\n",
       "      <td>1</td>\n",
       "      <td>25</td>\n",
       "      <td>Male</td>\n",
       "      <td>200.50</td>\n",
       "      <td>5</td>\n",
       "      <td>12</td>\n",
       "      <td>1</td>\n",
       "      <td>1</td>\n",
       "    </tr>\n",
       "    <tr>\n",
       "      <th>1</th>\n",
       "      <td>2</td>\n",
       "      <td>34</td>\n",
       "      <td>Female</td>\n",
       "      <td>120.75</td>\n",
       "      <td>2</td>\n",
       "      <td>30</td>\n",
       "      <td>0</td>\n",
       "      <td>0</td>\n",
       "    </tr>\n",
       "    <tr>\n",
       "      <th>2</th>\n",
       "      <td>3</td>\n",
       "      <td>28</td>\n",
       "      <td>Male</td>\n",
       "      <td>315.00</td>\n",
       "      <td>6</td>\n",
       "      <td>5</td>\n",
       "      <td>1</td>\n",
       "      <td>1</td>\n",
       "    </tr>\n",
       "    <tr>\n",
       "      <th>3</th>\n",
       "      <td>4</td>\n",
       "      <td>45</td>\n",
       "      <td>Female</td>\n",
       "      <td>150.00</td>\n",
       "      <td>3</td>\n",
       "      <td>15</td>\n",
       "      <td>1</td>\n",
       "      <td>0</td>\n",
       "    </tr>\n",
       "    <tr>\n",
       "      <th>4</th>\n",
       "      <td>5</td>\n",
       "      <td>42</td>\n",
       "      <td>Male</td>\n",
       "      <td>175.50</td>\n",
       "      <td>4</td>\n",
       "      <td>25</td>\n",
       "      <td>0</td>\n",
       "      <td>0</td>\n",
       "    </tr>\n",
       "    <tr>\n",
       "      <th>5</th>\n",
       "      <td>6</td>\n",
       "      <td>33</td>\n",
       "      <td>Female</td>\n",
       "      <td>240.00</td>\n",
       "      <td>5</td>\n",
       "      <td>7</td>\n",
       "      <td>1</td>\n",
       "      <td>1</td>\n",
       "    </tr>\n",
       "    <tr>\n",
       "      <th>6</th>\n",
       "      <td>7</td>\n",
       "      <td>31</td>\n",
       "      <td>Male</td>\n",
       "      <td>305.00</td>\n",
       "      <td>7</td>\n",
       "      <td>9</td>\n",
       "      <td>1</td>\n",
       "      <td>1</td>\n",
       "    </tr>\n",
       "    <tr>\n",
       "      <th>7</th>\n",
       "      <td>8</td>\n",
       "      <td>40</td>\n",
       "      <td>Female</td>\n",
       "      <td>215.25</td>\n",
       "      <td>4</td>\n",
       "      <td>14</td>\n",
       "      <td>0</td>\n",
       "      <td>0</td>\n",
       "    </tr>\n",
       "    <tr>\n",
       "      <th>8</th>\n",
       "      <td>9</td>\n",
       "      <td>36</td>\n",
       "      <td>Male</td>\n",
       "      <td>185.50</td>\n",
       "      <td>3</td>\n",
       "      <td>20</td>\n",
       "      <td>1</td>\n",
       "      <td>0</td>\n",
       "    </tr>\n",
       "    <tr>\n",
       "      <th>9</th>\n",
       "      <td>10</td>\n",
       "      <td>29</td>\n",
       "      <td>Female</td>\n",
       "      <td>225.00</td>\n",
       "      <td>6</td>\n",
       "      <td>10</td>\n",
       "      <td>0</td>\n",
       "      <td>1</td>\n",
       "    </tr>\n",
       "  </tbody>\n",
       "</table>\n",
       "</div>"
      ],
      "text/plain": [
       "   customer_id  age  gender  total_spent  frequency  days_since_last_purchase  \\\n",
       "0            1   25    Male       200.50          5                        12   \n",
       "1            2   34  Female       120.75          2                        30   \n",
       "2            3   28    Male       315.00          6                         5   \n",
       "3            4   45  Female       150.00          3                        15   \n",
       "4            5   42    Male       175.50          4                        25   \n",
       "5            6   33  Female       240.00          5                         7   \n",
       "6            7   31    Male       305.00          7                         9   \n",
       "7            8   40  Female       215.25          4                        14   \n",
       "8            9   36    Male       185.50          3                        20   \n",
       "9           10   29  Female       225.00          6                        10   \n",
       "\n",
       "   marketing_engaged  returned_next_month  \n",
       "0                  1                    1  \n",
       "1                  0                    0  \n",
       "2                  1                    1  \n",
       "3                  1                    0  \n",
       "4                  0                    0  \n",
       "5                  1                    1  \n",
       "6                  1                    1  \n",
       "7                  0                    0  \n",
       "8                  1                    0  \n",
       "9                  0                    1  "
      ]
     },
     "execution_count": 33,
     "metadata": {},
     "output_type": "execute_result"
    }
   ],
   "source": [
    "df_scd.head(10)"
   ]
  },
  {
   "cell_type": "markdown",
   "id": "651953a2",
   "metadata": {},
   "source": [
    "<div style=\"background-color:rgb(42, 146, 175); padding: 10px; border-left: 5px solidrgb(34, 119, 148); border-radius: 3px;\">\n",
    "  <b>2. Mostrar información básica del DataFrame</b>\n",
    "</div>"
   ]
  },
  {
   "cell_type": "code",
   "execution_count": 34,
   "id": "d29140e9",
   "metadata": {},
   "outputs": [
    {
     "name": "stdout",
     "output_type": "stream",
     "text": [
      "\n",
      "╔══════════════════════════════════════════════════╗\n",
      "║         'synthetic_customer_data.csv'            ║\n",
      "║                  'Información'                   ║\n",
      "╚══════════════════════════════════════════════════╝\n",
      "\n",
      "==================================================\n",
      "<class 'pandas.core.frame.DataFrame'>\n",
      "RangeIndex: 100 entries, 0 to 99\n",
      "Data columns (total 8 columns):\n",
      " #   Column                    Non-Null Count  Dtype  \n",
      "---  ------                    --------------  -----  \n",
      " 0   customer_id               100 non-null    int64  \n",
      " 1   age                       100 non-null    int64  \n",
      " 2   gender                    100 non-null    object \n",
      " 3   total_spent               100 non-null    float64\n",
      " 4   frequency                 100 non-null    int64  \n",
      " 5   days_since_last_purchase  100 non-null    int64  \n",
      " 6   marketing_engaged         100 non-null    int64  \n",
      " 7   returned_next_month       100 non-null    int64  \n",
      "dtypes: float64(1), int64(6), object(1)\n",
      "memory usage: 6.4+ KB\n",
      "\n",
      "==================================================\n",
      "\n",
      "- Total de filas duplicadas: 0\n",
      "\n",
      "==================================================\n",
      "\n",
      "- Total de valores nulos:\n",
      " \n",
      " customer_id                 0\n",
      "age                         0\n",
      "gender                      0\n",
      "total_spent                 0\n",
      "frequency                   0\n",
      "days_since_last_purchase    0\n",
      "marketing_engaged           0\n",
      "returned_next_month         0\n",
      "dtype: int64\n",
      "\n",
      "==================================================\n",
      "\n",
      "- Estadísticas:\n",
      " \n",
      "        customer_id         age  total_spent   frequency  \\\n",
      "count   100.000000  100.000000   100.000000  100.000000   \n",
      "mean     50.500000   34.300000   213.250000    4.500000   \n",
      "std      29.011492    6.163595    59.069596    1.507557   \n",
      "min       1.000000   25.000000   120.750000    2.000000   \n",
      "25%      25.750000   29.000000   175.500000    3.000000   \n",
      "50%      50.500000   33.500000   207.875000    4.500000   \n",
      "75%      75.250000   40.000000   240.000000    6.000000   \n",
      "max     100.000000   45.000000   315.000000    7.000000   \n",
      "\n",
      "       days_since_last_purchase  marketing_engaged  returned_next_month  \n",
      "count                100.000000         100.000000           100.000000  \n",
      "mean                  14.700000           0.600000             0.500000  \n",
      "std                    7.681146           0.492366             0.502519  \n",
      "min                    5.000000           0.000000             0.000000  \n",
      "25%                    9.000000           0.000000             0.000000  \n",
      "50%                   13.000000           1.000000             0.500000  \n",
      "75%                   20.000000           1.000000             1.000000  \n",
      "max                   30.000000           1.000000             1.000000  \n"
     ]
    }
   ],
   "source": [
    "# Información general/resumida sobre el DataFrame\n",
    "\n",
    "print(\"\\n╔══════════════════════════════════════════════════╗\")\n",
    "print(\"║         'synthetic_customer_data.csv'            ║\")\n",
    "print(\"║                  'Información'                   ║\")\n",
    "print(\"╚══════════════════════════════════════════════════╝\")\n",
    "print(\"\\n\" + \"=\" * 50)\n",
    "df_scd.info()\n",
    "print(\"\\n\" + \"=\" * 50)\n",
    "print(\"\\n- Total de filas duplicadas:\", df_scd.duplicated().sum())\n",
    "print(\"\\n\" + \"=\" * 50)\n",
    "print('\\n- Total de valores nulos:\\n \\n', df_scd.isna().sum())\n",
    "print(\"\\n\" + \"=\" * 50)\n",
    "print('\\n- Estadísticas:\\n \\n', df_scd.describe())\n"
   ]
  },
  {
   "cell_type": "markdown",
   "id": "ee69e103",
   "metadata": {},
   "source": [
    "<div style=\"background-color:rgb(42, 146, 175); padding: 10px; border-left: 5px solidrgb(34, 119, 148); border-radius: 3px;\">\n",
    "  <b>3.- Visualización de Datos</b>\n",
    "\n",
    "</div>"
   ]
  },
  {
   "cell_type": "markdown",
   "id": "da9c9ec8",
   "metadata": {},
   "source": [
    "<div style=\"background-color:rgb(9, 99, 184); padding: 10px; border-left: 5px solidrgb(34, 119, 148); border-radius: 3px;\">\n",
    "  <b>Generar histogramas para analizar la distribución de age y total_spent.</b>\n",
    "\n",
    "\n",
    "</div>"
   ]
  },
  {
   "cell_type": "code",
   "execution_count": 35,
   "id": "5ae99e0c",
   "metadata": {},
   "outputs": [
    {
     "data": {
      "image/png": "[encoded data removed]",
      "text/plain": [
       "<Figure size 1200x500 with 2 Axes>"
      ]
     },
     "metadata": {},
     "output_type": "display_data"
    }
   ],
   "source": [
    "fig, axes = plt.subplots(1, 2, figsize=(12,5))\n",
    "\n",
    "sns.histplot(df_scd['age'], ax=axes[0], color=\"#219ebc\")\n",
    "axes[0].set_title('Distribución de Edad')\n",
    "axes[0].set_xlabel('Edad')\n",
    "axes[0].set_ylabel('Frecuencia')\n",
    "\n",
    "sns.histplot(df_scd['total_spent'], ax=axes[1], color=\"#f36f03\")\n",
    "axes[1].set_title('Distribución de Total Gastado')\n",
    "axes[1].set_xlabel('Total Gastado')\n",
    "axes[1].set_ylabel('Frecuencia')\n",
    "\n",
    "plt.tight_layout()\n",
    "plt.show()"
   ]
  },
  {
   "cell_type": "markdown",
   "id": "57027f90",
   "metadata": {},
   "source": [
    "<div style=\"background-color:rgb(9, 99, 184); padding: 10px; border-left: 5px solidrgb(34, 119, 148); border-radius: 3px;\">\n",
    "  <b>Crear un gráfico de barras para observar la distribución de gender.</b>\n",
    "\n",
    "\n",
    "</div>"
   ]
  },
  {
   "cell_type": "code",
   "execution_count": 36,
   "id": "9bc23031",
   "metadata": {},
   "outputs": [
    {
     "name": "stdout",
     "output_type": "stream",
     "text": [
      "gender\n",
      "Male      50\n",
      "Female    50\n",
      "Name: count, dtype: int64\n"
     ]
    },
    {
     "data": {
      "image/png": "[encoded data removed]",
      "text/plain": [
       "<Figure size 1000x800 with 1 Axes>"
      ]
     },
     "metadata": {},
     "output_type": "display_data"
    }
   ],
   "source": [
    "print(df_scd['gender'].value_counts())\n",
    "\n",
    "#bar_gender = df_scd['gender'].value_counts()\n",
    "\n",
    "# Es el mismo código, simplemente que este usa value_counts y el ultimo ya lo hace de manera predeterminada\n",
    "# con sns.countplot \n",
    "'''plt.figure(figsize=(10,8))\n",
    "sns.barplot(x = bar_gender.index,\n",
    "            y = bar_gender.values,\n",
    "            palette = 'viridis'\n",
    "            )\n",
    "plt.xlabel('Género')\n",
    "plt.ylabel('y')\n",
    "plt.title('Distribución de Género')\n",
    "plt.xticks(rotation=45, ha='right')\n",
    "plt.tight_layout()'''\n",
    "\n",
    "plt.figure(figsize=(10, 8))\n",
    "sns.countplot(data=df_scd, \n",
    "              x='gender', \n",
    "              hue='gender',\n",
    "              palette='viridis')\n",
    "plt.ylim(0, 100)\n",
    "plt.xlabel('Género')\n",
    "plt.ylabel('Cantidad')\n",
    "plt.title('Distribución de Género')\n",
    "plt.tight_layout()\n",
    "plt.show()"
   ]
  },
  {
   "cell_type": "markdown",
   "id": "3dab10e9",
   "metadata": {},
   "source": [
    "<div style=\"background-color:rgb(42, 146, 175); padding: 10px; border-left: 5px solidrgb(34, 119, 148); border-radius: 3px;\">\n",
    "  <b>4. Preprocesamiento de los Datos:</b>\n",
    "</div>"
   ]
  },
  {
   "cell_type": "markdown",
   "id": "350b48aa",
   "metadata": {},
   "source": [
    "<div style=\"background-color:rgb(9, 99, 184); padding: 10px; border-left: 5px solidrgb(34, 119, 148); border-radius: 3px;\">\n",
    "  <b>Verificar si existen valores nulos en el conjunto de datos y documentar los resultados.</b>\n",
    "\n",
    "\n",
    "</div>"
   ]
  },
  {
   "cell_type": "code",
   "execution_count": 37,
   "id": "97cd0cd2",
   "metadata": {},
   "outputs": [
    {
     "name": "stdout",
     "output_type": "stream",
     "text": [
      "\n",
      "- Total de valores nulos:\n",
      " \n",
      " customer_id                 0\n",
      "age                         0\n",
      "gender                      0\n",
      "total_spent                 0\n",
      "frequency                   0\n",
      "days_since_last_purchase    0\n",
      "marketing_engaged           0\n",
      "returned_next_month         0\n",
      "dtype: int64\n"
     ]
    }
   ],
   "source": [
    "print('\\n- Total de valores nulos:\\n \\n', df_scd.isna().sum())"
   ]
  },
  {
   "cell_type": "markdown",
   "id": "8ac01339",
   "metadata": {},
   "source": [
    "En este DataSet no existen valores nulos"
   ]
  },
  {
   "cell_type": "markdown",
   "id": "d737fda3",
   "metadata": {},
   "source": [
    "<div style=\"background-color:rgb(9, 99, 184); padding: 10px; border-left: 5px solidrgb(34, 119, 148); border-radius: 3px;\">\n",
    "  <b>Codificar la variable gender en valores numéricos (0 para Female, 1 para Male).</b>\n",
    "\n",
    "\n",
    "</div>"
   ]
  },
  {
   "cell_type": "code",
   "execution_count": 38,
   "id": "34cc3264",
   "metadata": {},
   "outputs": [
    {
     "data": {
      "application/vnd.microsoft.datawrangler.viewer.v0+json": {
       "columns": [
        {
         "name": "index",
         "rawType": "int64",
         "type": "integer"
        },
        {
         "name": "customer_id",
         "rawType": "int64",
         "type": "integer"
        },
        {
         "name": "age",
         "rawType": "int64",
         "type": "integer"
        },
        {
         "name": "gender",
         "rawType": "object",
         "type": "string"
        },
        {
         "name": "gender_num",
         "rawType": "int64",
         "type": "integer"
        },
        {
         "name": "total_spent",
         "rawType": "float64",
         "type": "float"
        },
        {
         "name": "frequency",
         "rawType": "int64",
         "type": "integer"
        },
        {
         "name": "days_since_last_purchase",
         "rawType": "int64",
         "type": "integer"
        },
        {
         "name": "marketing_engaged",
         "rawType": "int64",
         "type": "integer"
        },
        {
         "name": "returned_next_month",
         "rawType": "int64",
         "type": "integer"
        }
       ],
       "ref": "40fdb317-d91d-4d72-92b3-83d277b3b8f1",
       "rows": [
        [
         "0",
         "1",
         "25",
         "Male",
         "1",
         "200.5",
         "5",
         "12",
         "1",
         "1"
        ],
        [
         "1",
         "2",
         "34",
         "Female",
         "0",
         "120.75",
         "2",
         "30",
         "0",
         "0"
        ],
        [
         "2",
         "3",
         "28",
         "Male",
         "1",
         "315.0",
         "6",
         "5",
         "1",
         "1"
        ],
        [
         "3",
         "4",
         "45",
         "Female",
         "0",
         "150.0",
         "3",
         "15",
         "1",
         "0"
        ],
        [
         "4",
         "5",
         "42",
         "Male",
         "1",
         "175.5",
         "4",
         "25",
         "0",
         "0"
        ]
       ],
       "shape": {
        "columns": 9,
        "rows": 5
       }
      },
      "text/html": [
       "<div>\n",
       "<style scoped>\n",
       "    .dataframe tbody tr th:only-of-type {\n",
       "        vertical-align: middle;\n",
       "    }\n",
       "\n",
       "    .dataframe tbody tr th {\n",
       "        vertical-align: top;\n",
       "    }\n",
       "\n",
       "    .dataframe thead th {\n",
       "        text-align: right;\n",
       "    }\n",
       "</style>\n",
       "<table border=\"1\" class=\"dataframe\">\n",
       "  <thead>\n",
       "    <tr style=\"text-align: right;\">\n",
       "      <th></th>\n",
       "      <th>customer_id</th>\n",
       "      <th>age</th>\n",
       "      <th>gender</th>\n",
       "      <th>gender_num</th>\n",
       "      <th>total_spent</th>\n",
       "      <th>frequency</th>\n",
       "      <th>days_since_last_purchase</th>\n",
       "      <th>marketing_engaged</th>\n",
       "      <th>returned_next_month</th>\n",
       "    </tr>\n",
       "  </thead>\n",
       "  <tbody>\n",
       "    <tr>\n",
       "      <th>0</th>\n",
       "      <td>1</td>\n",
       "      <td>25</td>\n",
       "      <td>Male</td>\n",
       "      <td>1</td>\n",
       "      <td>200.50</td>\n",
       "      <td>5</td>\n",
       "      <td>12</td>\n",
       "      <td>1</td>\n",
       "      <td>1</td>\n",
       "    </tr>\n",
       "    <tr>\n",
       "      <th>1</th>\n",
       "      <td>2</td>\n",
       "      <td>34</td>\n",
       "      <td>Female</td>\n",
       "      <td>0</td>\n",
       "      <td>120.75</td>\n",
       "      <td>2</td>\n",
       "      <td>30</td>\n",
       "      <td>0</td>\n",
       "      <td>0</td>\n",
       "    </tr>\n",
       "    <tr>\n",
       "      <th>2</th>\n",
       "      <td>3</td>\n",
       "      <td>28</td>\n",
       "      <td>Male</td>\n",
       "      <td>1</td>\n",
       "      <td>315.00</td>\n",
       "      <td>6</td>\n",
       "      <td>5</td>\n",
       "      <td>1</td>\n",
       "      <td>1</td>\n",
       "    </tr>\n",
       "    <tr>\n",
       "      <th>3</th>\n",
       "      <td>4</td>\n",
       "      <td>45</td>\n",
       "      <td>Female</td>\n",
       "      <td>0</td>\n",
       "      <td>150.00</td>\n",
       "      <td>3</td>\n",
       "      <td>15</td>\n",
       "      <td>1</td>\n",
       "      <td>0</td>\n",
       "    </tr>\n",
       "    <tr>\n",
       "      <th>4</th>\n",
       "      <td>5</td>\n",
       "      <td>42</td>\n",
       "      <td>Male</td>\n",
       "      <td>1</td>\n",
       "      <td>175.50</td>\n",
       "      <td>4</td>\n",
       "      <td>25</td>\n",
       "      <td>0</td>\n",
       "      <td>0</td>\n",
       "    </tr>\n",
       "  </tbody>\n",
       "</table>\n",
       "</div>"
      ],
      "text/plain": [
       "   customer_id  age  gender  gender_num  total_spent  frequency  \\\n",
       "0            1   25    Male           1       200.50          5   \n",
       "1            2   34  Female           0       120.75          2   \n",
       "2            3   28    Male           1       315.00          6   \n",
       "3            4   45  Female           0       150.00          3   \n",
       "4            5   42    Male           1       175.50          4   \n",
       "\n",
       "   days_since_last_purchase  marketing_engaged  returned_next_month  \n",
       "0                        12                  1                    1  \n",
       "1                        30                  0                    0  \n",
       "2                         5                  1                    1  \n",
       "3                        15                  1                    0  \n",
       "4                        25                  0                    0  "
      ]
     },
     "execution_count": 38,
     "metadata": {},
     "output_type": "execute_result"
    }
   ],
   "source": [
    "mapping = {'Female': 0, 'Male': 1}\n",
    "df_scd['gender_num'] = df_scd['gender'].map(mapping)\n",
    "\n",
    "# Acomodo las columnas para que gender y gender_num estén contiguas.\n",
    "cols = ['customer_id', 'age', 'gender', 'gender_num', 'total_spent', \n",
    "        'frequency', 'days_since_last_purchase', 'marketing_engaged', \n",
    "        'returned_next_month']\n",
    "df_scd = df_scd[cols]\n",
    "\n",
    "df_scd.head()\n",
    "        "
   ]
  },
  {
   "cell_type": "markdown",
   "id": "cd2252a2",
   "metadata": {},
   "source": [
    "<div style=\"background-color:rgb(9, 99, 184); padding: 10px; border-left: 5px solidrgb(34, 119, 148); border-radius: 3px;\">\n",
    "  <b>Escalar las columnas numéricas (age, total_spent, frequency, days_since_last_purchase) usando StandardScaler para asegurar consistencia en las escalas.</b>\n",
    "\n",
    "\n",
    "</div>"
   ]
  },
  {
   "cell_type": "markdown",
   "id": "53e45ac3",
   "metadata": {},
   "source": [
    "<div class=\"alert alert-block alert-warning\">\n",
    "<b>⚠️ Aún no he aprendido a usar sklearn, por lo que hasta aquí llega mi conocimiento en este proyecto.</b> <a class=\"tocSkip\"></a><br>    \n",
    "</div>"
   ]
  },
  {
   "cell_type": "code",
   "execution_count": null,
   "id": "a0da2eca",
   "metadata": {},
   "outputs": [],
   "source": []
  },
  {
   "cell_type": "markdown",
   "id": "409b5631",
   "metadata": {},
   "source": [
    "<div style=\"background-color:rgb(42, 146, 175); padding: 10px; border-left: 5px solidrgb(34, 119, 148); border-radius: 3px;\">\n",
    "  <b>5. Dividir los Datos en Entrenamiento y Prueba:</b>\n",
    "</div>"
   ]
  },
  {
   "cell_type": "code",
   "execution_count": null,
   "id": "b9ee754a",
   "metadata": {},
   "outputs": [],
   "source": []
  },
  {
   "cell_type": "markdown",
   "id": "98755efb",
   "metadata": {},
   "source": [
    "<div style=\"background-color:rgb(42, 146, 175); padding: 10px; border-left: 5px solidrgb(34, 119, 148); border-radius: 3px;\">\n",
    "  <b>6. Entrenamiento de Modelos:</b>\n",
    "</div>"
   ]
  },
  {
   "cell_type": "code",
   "execution_count": null,
   "id": "bac6d6d7",
   "metadata": {},
   "outputs": [],
   "source": []
  },
  {
   "cell_type": "markdown",
   "id": "29ae0f61",
   "metadata": {},
   "source": [
    "<div style=\"background-color:rgb(42, 146, 175); padding: 10px; border-left: 5px solidrgb(34, 119, 148); border-radius: 3px;\">\n",
    "  <b>7. Evaluación Inicial de Modelos:</b>\n",
    "</div>"
   ]
  },
  {
   "cell_type": "code",
   "execution_count": null,
   "id": "2ac71f31",
   "metadata": {},
   "outputs": [],
   "source": []
  },
  {
   "cell_type": "markdown",
   "id": "768d018b",
   "metadata": {},
   "source": [
    "<div style=\"background-color:rgb(42, 146, 175); padding: 10px; border-left: 5px solidrgb(34, 119, 148); border-radius: 3px;\">\n",
    "  <b>8. Optimización del Mejor Modelo:</b>\n",
    "</div>"
   ]
  },
  {
   "cell_type": "code",
   "execution_count": null,
   "id": "a6e55bab",
   "metadata": {},
   "outputs": [],
   "source": []
  },
  {
   "cell_type": "markdown",
   "id": "d7370cb9",
   "metadata": {},
   "source": [
    "<div style=\"background-color:rgb(42, 146, 175); padding: 10px; border-left: 5px solidrgb(34, 119, 148); border-radius: 3px;\">\n",
    "  <b>9. Validación y Análisis de Errores:</b>\n",
    "</div>"
   ]
  },
  {
   "cell_type": "code",
   "execution_count": null,
   "id": "1313c1ff",
   "metadata": {},
   "outputs": [],
   "source": []
  },
  {
   "cell_type": "markdown",
   "id": "b3f96b8c",
   "metadata": {},
   "source": [
    "<div style=\"background-color:rgb(42, 146, 175); padding: 10px; border-left: 5px solidrgb(34, 119, 148); border-radius: 3px;\">\n",
    "  <b>10. Conclusión y Recomendaciones:</b>\n",
    "</div>"
   ]
  },
  {
   "cell_type": "code",
   "execution_count": null,
   "id": "a67cd29c",
   "metadata": {},
   "outputs": [],
   "source": []
  },
  {
   "cell_type": "markdown",
   "id": "51beb5a4",
   "metadata": {},
   "source": [
    "<div style=\"background-color:rgb(42, 146, 175); padding: 10px; border-left: 5px solidrgb(34, 119, 148); border-radius: 3px;\">\n",
    "  <b>11. Considera los criterios de evaluación</b>\n",
    "</div>"
   ]
  },
  {
   "cell_type": "code",
   "execution_count": null,
   "id": "dc9fbe25",
   "metadata": {},
   "outputs": [],
   "source": []
  }
 ],
 "metadata": {
  "kernelspec": {
   "display_name": "Python 3",
   "language": "python",
   "name": "python3"
  },
  "language_info": {
   "codemirror_mode": {
    "name": "ipython",
    "version": 3
   },
   "file_extension": ".py",
   "mimetype": "text/x-python",
   "name": "python",
   "nbconvert_exporter": "python",
   "pygments_lexer": "ipython3",
   "version": "3.13.3"
  }
 },
 "nbformat": 4,
 "nbformat_minor": 5
}
